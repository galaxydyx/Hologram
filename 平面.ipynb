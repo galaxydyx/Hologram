{
 "cells": [
  {
   "cell_type": "code",
   "execution_count": 1,
   "id": "3defba53",
   "metadata": {},
   "outputs": [],
   "source": [
    "import matplotlib.pyplot as plt\n",
    "import torch as tc\n",
    "import math\n",
    "import time\n",
    "import cv2 as cv\n",
    "import numpy as np"
   ]
  },
  {
   "cell_type": "code",
   "execution_count": 2,
   "id": "d57ceeb3",
   "metadata": {},
   "outputs": [],
   "source": [
    "tc.set_default_dtype(tc.float64)"
   ]
  },
  {
   "cell_type": "code",
   "execution_count": 3,
   "id": "889a78c3",
   "metadata": {},
   "outputs": [],
   "source": [
    "def plane(normal,point):\n",
    "    return {\"normal\":tc.tensor([normal]).cuda(),\n",
    "            \"point\":tc.tensor([point]).cuda(),\n",
    "            \"color\":lambda M: tc.tensor([1,1,1]).type(tc.cuda.FloatTensor) if int(M[...,1]%2)==int(M[...,2]%2) else tc.tensor([0,0,0]).type(tc.cuda.FloatTensor)}\n",
    "plan=[plane(normal=[0,0.0,-1],point=[0,0.0,200])]\n",
    "normal=[plan[i][\"normal\"] for i in range(len(plan))]\n",
    "normal=tc.cat(normal)\n",
    "point=[plan[i][\"point\"] for i in range(len(plan))]\n",
    "point=tc.cat(point)"
   ]
  },
  {
   "cell_type": "code",
   "execution_count": 4,
   "id": "32af5059",
   "metadata": {},
   "outputs": [
    {
     "data": {
      "text/plain": [
       "(-0.5, 1023.5, 767.5, -0.5)"
      ]
     },
     "execution_count": 4,
     "metadata": {},
     "output_type": "execute_result"
    },
    {
     "data": {
      "image/png": "[encoded data removed]",
      "text/plain": [
       "<Figure size 432x288 with 1 Axes>"
      ]
     },
     "metadata": {
      "needs_background": "light"
     },
     "output_type": "display_data"
    }
   ],
   "source": [
    "plane_img=cv.imread(\"mnist0.jpg\",cv.IMREAD_GRAYSCALE)\n",
    "# plane_img=cv.resize(plane_img,(768,768))\n",
    "plane_img=tc.round(tc.tensor(plane_img).type(tc.FloatTensor))\n",
    "import torch.nn.functional as F\n",
    "plane_img=F.pad(plane_img,[int((1024-plane_img.size(1))/2),int((1024-plane_img.size(1))/2),int((768-plane_img.size(0))/2),int((768-plane_img.size(0))/2)])\n",
    "plt.imshow(plane_img,\"gray\")\n",
    "plt.axis(\"off\")"
   ]
  },
  {
   "cell_type": "code",
   "execution_count": 5,
   "id": "8ebc4836",
   "metadata": {},
   "outputs": [],
   "source": [
    "#寻找交点距离\n",
    "def plane_cross(module,ray_origin,ray_dir):\n",
    "    dn=tc.squeeze(tc.mm(module[\"normal\"],ray_dir.T))\n",
    "    dis=tc.matmul(module[\"point\"]-ray_origin,module[\"normal\"].T)/dn\n",
    "    dis.T[tc.abs(dn)<1e-6]=tc.inf\n",
    "    return dis\n",
    "#寻找最近交点距离\n",
    "def shortest_dis(sence,ray_origin,ray_dir):\n",
    "    a=tc.matmul(ray_origin,ray_dir.T).size()\n",
    "    dis=(tc.ones(a)*tc.inf).cuda()\n",
    "    index=(tc.zeros(a).type(tc.LongTensor)).cuda()\n",
    "    for i in range(len(plan)):\n",
    "        dis_s=plane_cross(sence[i],ray_origin,ray_dir)\n",
    "        index[dis_s<dis]=i\n",
    "        dis[dis_s<dis]=dis_s[dis_s<dis]\n",
    "    return dis,index"
   ]
  },
  {
   "cell_type": "code",
   "execution_count": 6,
   "id": "de3f6928",
   "metadata": {},
   "outputs": [],
   "source": [
    "#光源属性\n",
    "souce={\"position\":tc.tensor([[-100,100,0]]).cuda(),\"color\":tc.tensor([[1,1,1]]).cuda()}\n",
    "#Phong反射\n",
    "ka,kd,ks,alpha=0.3,0.7,0.5,7\n",
    "w,h=768,1024\n",
    "pixl=2.6*10**-2#mm\n",
    "lamda=5.32*10**-4\n",
    "c=tc.min(point[:,2])\n",
    "k=int(tc.max(point[:,2])-c)*10+1\n",
    "phi=2*tc.pi*tc.rand(400,600,k)#0.1mm一个相位\n",
    "pixl_num=32"
   ]
  },
  {
   "cell_type": "code",
   "execution_count": 7,
   "id": "857480c3",
   "metadata": {},
   "outputs": [
    {
     "name": "stderr",
     "output_type": "stream",
     "text": [
      "D:\\anaconda3\\lib\\site-packages\\torch\\functional.py:445: UserWarning: torch.meshgrid: in an upcoming release, it will be required to pass the indexing argument. (Triggered internally at  ..\\aten\\src\\ATen\\native\\TensorShape.cpp:2157.)\n",
      "  return _VF.meshgrid(tensors, **kwargs)  # type: ignore[attr-defined]\n"
     ]
    }
   ],
   "source": [
    "w_mesh=tc.linspace(-(w/2-pixl_num/2)*pixl,(w/2-pixl_num/2)*pixl,int(w/pixl_num))\n",
    "h_mesh=tc.linspace(-(h/2-pixl_num/2)*pixl,(h/2-pixl_num/2)*pixl,int(h/pixl_num))\n",
    "[x,y]=tc.meshgrid(w_mesh,h_mesh)\n",
    "origin=tc.zeros(int(w/pixl_num),int(h/pixl_num),3)\n",
    "origin[:,:,0]=x\n",
    "origin[:,:,1]=y\n",
    "origin=origin.cuda()"
   ]
  },
  {
   "cell_type": "code",
   "execution_count": 8,
   "id": "2ba3f4ae",
   "metadata": {},
   "outputs": [],
   "source": [
    "w_mesh=tc.linspace(-(w/2-1/2)*pixl,(w/2-1/2)*pixl,w)\n",
    "h_mesh=tc.linspace(-(h/2-1/2)*pixl,(h/2-1/2)*pixl,h)\n",
    "[x,y]=tc.meshgrid(w_mesh,h_mesh)\n",
    "origin_p=tc.zeros(w,h,3)\n",
    "origin_p[:,:,0]=x\n",
    "origin_p[:,:,1]=y\n",
    "origin_p=origin_p.reshape(int(w/pixl_num),pixl_num,int(h/pixl_num),pixl_num,3)\n",
    "origin_p=tc.permute(origin_p,[0,2,1,3,4])\n",
    "origin_p=origin_p.cuda()\n",
    "origin_p=tc.unsqueeze(origin_p,dim=-4)"
   ]
  },
  {
   "cell_type": "code",
   "execution_count": 9,
   "id": "3f23729f",
   "metadata": {},
   "outputs": [],
   "source": [
    "#虚拟光线在视锥体底面上均匀取(四棱锥高设为1)\n",
    "theta=math.asin(lamda/(2*pixl))\n",
    "n=int(2*theta/math.pi*180/(1/60))\n",
    "light_dir=tc.zeros(n**2,3)\n",
    "x=tc.linspace(-math.tan(theta),math.tan(theta),n)\n",
    "x,y=tc.meshgrid(x,x)\n",
    "norm=tc.sqrt(x**2+y**2+1)\n",
    "light_dir[:,0]=(x/norm).view(-1)\n",
    "light_dir[:,1]=(y/norm).view(-1)\n",
    "light_dir[:,2]=(1/norm).view(-1)"
   ]
  },
  {
   "cell_type": "code",
   "execution_count": 10,
   "id": "12a74587",
   "metadata": {},
   "outputs": [
    {
     "name": "stdout",
     "output_type": "stream",
     "text": [
      "Wall time: 7.56 s\n"
     ]
    }
   ],
   "source": [
    "%%time\n",
    "b=len(light_dir)\n",
    "light_dir=light_dir.cuda()\n",
    "plane_img=(plane_img/tc.max(plane_img)).cuda()\n",
    "image=tc.zeros(w,h,dtype=tc.cfloat).cuda()\n",
    "pix=(pixl*w+2*math.tan(theta)*plan[0][\"point\"][...,2])/w\n",
    "# color_image=tc.zeros(w,h,3,dtype=tc.cfloat).cuda()\n",
    "########\n",
    "for i in range(int(w/pixl_num)):\n",
    "    for j in range(int(h/pixl_num)):\n",
    "        dis,index=shortest_dis(plan,origin[i,j].reshape(1,3),light_dir)\n",
    "        coord=tc.unsqueeze(origin[i,j].reshape(1,3),dim=-2)+light_dir*tc.unsqueeze(dis,dim=-1)\n",
    "#         L=(souce[\"position\"]-coord)/tc.unsqueeze(tc.norm(souce[\"position\"]-coord,dim=-1),dim=-1)\n",
    "# #         N=(coord-center[index])/tc.unsqueeze(tc.norm(coord-center[index],dim=-1),dim=-1)\n",
    "#         N=normal\n",
    "#         L_N=tc.squeeze(tc.matmul(tc.unsqueeze(L,dim=-2),N.T))\n",
    "#         R=2*L_N.unsqueeze(dim=-1)*N-L\n",
    "#         V=tc.ones(R.size()).cuda()*(-light_dir)\n",
    "        img_A=plane_img[((coord[...,0])/pix+w/2).type(tc.LongTensor),((coord[...,1])/pix+h/2).type(tc.LongTensor)]\n",
    "        A=img_A#*(ka+kd**tc.clip(L_N,0)+ks*tc.squeeze(tc.clip(tc.matmul(tc.unsqueeze(R,dim=-2),tc.unsqueeze(V,dim=-1)),0)**alpha))\n",
    "        #阴影\n",
    "        #     shadow_dis=shadow(sence,coord,L,index)\n",
    "        #     shadow_dis[shadow_dis== -tc.inf]=tc.inf\n",
    "        #     shadow_dis[tc.isnan(shadow_dis)]=tc.inf\n",
    "        #     A[shadow_dis!=tc.inf]=ka\n",
    "        #\n",
    "        coord[coord==tc.inf]=0\n",
    "        coord[coord== -tc.inf]=0\n",
    "        coord[tc.isnan(coord)]=0\n",
    "        coord[...,2][coord[...,2]==0]=c\n",
    "        coord=coord.unsqueeze(dim=-2).unsqueeze(dim=-2)\n",
    "        di=tc.norm(origin_p[i][j]-coord,dim=-1)\n",
    "        x1=coord[...,0]-coord[...,2]*math.tan(theta)\n",
    "        x2=coord[...,0]+coord[...,2]*math.tan(theta)\n",
    "        y1=coord[...,1]-coord[...,2]*math.tan(theta)\n",
    "        y2=coord[...,1]+coord[...,2]*math.tan(theta)\n",
    "        H=A.unsqueeze(dim=-1).unsqueeze(dim=-1)/di*tc.exp(1j*(2*tc.pi/lamda*di+phi[(10*coord[...,0]+phi.size(0)/2).type(tc.LongTensor),(10*coord[...,1]+phi.size(1)/2).type(tc.LongTensor),(10*(coord[...,2]-c)).type(tc.LongTensor)].cuda()))\n",
    "        H[(origin_p[i][j][...,0]<x1)&(origin_p[i][j][...,0]>x2)&(origin_p[i][j][...,1]<y1)&(origin_p[i][j][...,1]>y2)]=0\n",
    "        H[H==tc.inf]=0\n",
    "        H[H== -tc.inf]=0\n",
    "        H[tc.isnan(H)]=0\n",
    "        image[pixl_num*i:pixl_num*(i+1),pixl_num*j:pixl_num*(j+1)]=tc.sum(H,dim=-3).reshape(pixl_num,pixl_num)"
   ]
  },
  {
   "cell_type": "code",
   "execution_count": 13,
   "id": "bc88564c",
   "metadata": {},
   "outputs": [],
   "source": [
    "tc.save(image.cpu(),'复振幅8.pth')"
   ]
  },
  {
   "cell_type": "code",
   "execution_count": 10,
   "id": "8a089cd2",
   "metadata": {},
   "outputs": [
    {
     "data": {
      "text/plain": [
       "<matplotlib.image.AxesImage at 0x2378ef2e220>"
      ]
     },
     "execution_count": 10,
     "metadata": {},
     "output_type": "execute_result"
    },
    {
     "data": {
      "image/png": "[encoded data removed]",
      "text/plain": [
       "<Figure size 432x288 with 1 Axes>"
      ]
     },
     "metadata": {
      "needs_background": "light"
     },
     "output_type": "display_data"
    }
   ],
   "source": [
    "img=image.cpu()\n",
    "plt.imshow(tc.abs(img),\"gray\")"
   ]
  },
  {
   "cell_type": "code",
   "execution_count": 11,
   "id": "6e4cd472",
   "metadata": {},
   "outputs": [
    {
     "data": {
      "text/plain": [
       "<matplotlib.image.AxesImage at 0x22f16bba2e0>"
      ]
     },
     "execution_count": 11,
     "metadata": {},
     "output_type": "execute_result"
    },
    {
     "data": {
      "image/png": "[encoded data removed]",
      "text/plain": [
       "<Figure size 432x288 with 1 Axes>"
      ]
     },
     "metadata": {
      "needs_background": "light"
     },
     "output_type": "display_data"
    }
   ],
   "source": [
    "plt.imshow(tc.angle(img),\"gray\")"
   ]
  },
  {
   "cell_type": "code",
   "execution_count": 20,
   "id": "2ee24f99",
   "metadata": {},
   "outputs": [
    {
     "data": {
      "text/plain": [
       "-1"
      ]
     },
     "execution_count": 20,
     "metadata": {},
     "output_type": "execute_result"
    }
   ],
   "source": [
    "I=np.abs(np.array(img))\n",
    "window_name=\"show\"\n",
    "cv.namedWindow(window_name,0)\n",
    "cv.setWindowProperty(window_name,cv.WND_PROP_FULLSCREEN,cv.WINDOW_FULLSCREEN)\n",
    "# cv.SetWindowLong(window_name, cv.GWL_STYLE, cv.GetWindowLong(window_name, cv.GWL_EXSTYLE) | cv.WS_EX_TOPMOST);\n",
    "# cv.ShowWindow(window_name, SW_SHOW);\n",
    "cv.moveWindow(window_name,0,0)\n",
    "cv.resizeWindow(window_name,h,w)\n",
    "I=(I-np.min(I))/(np.max(I)-np.min(I))\n",
    "cv.imshow(window_name,I)\n",
    "cv.waitKey(0)"
   ]
  },
  {
   "cell_type": "code",
   "execution_count": 34,
   "id": "b47d6428",
   "metadata": {},
   "outputs": [],
   "source": [
    "cv.destroyAllWindows()"
   ]
  },
  {
   "cell_type": "code",
   "execution_count": 30,
   "id": "f88fef54",
   "metadata": {},
   "outputs": [
    {
     "ename": "KeyboardInterrupt",
     "evalue": "",
     "output_type": "error",
     "traceback": [
      "\u001b[1;31m---------------------------------------------------------------------------\u001b[0m",
      "\u001b[1;31mKeyboardInterrupt\u001b[0m                         Traceback (most recent call last)",
      "\u001b[1;32m<ipython-input-30-b5b00c823fd1>\u001b[0m in \u001b[0;36m<module>\u001b[1;34m\u001b[0m\n\u001b[0;32m      9\u001b[0m \u001b[1;32mfor\u001b[0m \u001b[0mi\u001b[0m \u001b[1;32min\u001b[0m \u001b[0mrange\u001b[0m\u001b[1;33m(\u001b[0m\u001b[0mint\u001b[0m\u001b[1;33m(\u001b[0m\u001b[0mw\u001b[0m\u001b[1;33m/\u001b[0m\u001b[0mpixl_num\u001b[0m\u001b[1;33m)\u001b[0m\u001b[1;33m)\u001b[0m\u001b[1;33m:\u001b[0m\u001b[1;33m\u001b[0m\u001b[1;33m\u001b[0m\u001b[0m\n\u001b[0;32m     10\u001b[0m     \u001b[1;32mfor\u001b[0m \u001b[0mj\u001b[0m \u001b[1;32min\u001b[0m \u001b[0mrange\u001b[0m\u001b[1;33m(\u001b[0m\u001b[0mint\u001b[0m\u001b[1;33m(\u001b[0m\u001b[0mh\u001b[0m\u001b[1;33m/\u001b[0m\u001b[0mpixl_num\u001b[0m\u001b[1;33m)\u001b[0m\u001b[1;33m)\u001b[0m\u001b[1;33m:\u001b[0m\u001b[1;33m\u001b[0m\u001b[1;33m\u001b[0m\u001b[0m\n\u001b[1;32m---> 11\u001b[1;33m         \u001b[0mdis\u001b[0m\u001b[1;33m,\u001b[0m\u001b[0mindex\u001b[0m\u001b[1;33m=\u001b[0m\u001b[0mshortest_dis\u001b[0m\u001b[1;33m(\u001b[0m\u001b[0mplan\u001b[0m\u001b[1;33m,\u001b[0m\u001b[0morigin_p\u001b[0m\u001b[1;33m[\u001b[0m\u001b[0mi\u001b[0m\u001b[1;33m,\u001b[0m\u001b[0mj\u001b[0m\u001b[1;33m]\u001b[0m\u001b[1;33m,\u001b[0m\u001b[0mlight_dir\u001b[0m\u001b[1;33m)\u001b[0m\u001b[1;33m\u001b[0m\u001b[1;33m\u001b[0m\u001b[0m\n\u001b[0m\u001b[0;32m     12\u001b[0m         \u001b[0mcoord\u001b[0m\u001b[1;33m=\u001b[0m\u001b[0mtc\u001b[0m\u001b[1;33m.\u001b[0m\u001b[0munsqueeze\u001b[0m\u001b[1;33m(\u001b[0m\u001b[0morigin_p\u001b[0m\u001b[1;33m[\u001b[0m\u001b[0mi\u001b[0m\u001b[1;33m,\u001b[0m\u001b[0mj\u001b[0m\u001b[1;33m]\u001b[0m\u001b[1;33m,\u001b[0m\u001b[0mdim\u001b[0m\u001b[1;33m=\u001b[0m\u001b[1;33m-\u001b[0m\u001b[1;36m2\u001b[0m\u001b[1;33m)\u001b[0m\u001b[1;33m+\u001b[0m\u001b[0mlight_dir\u001b[0m\u001b[1;33m*\u001b[0m\u001b[0mtc\u001b[0m\u001b[1;33m.\u001b[0m\u001b[0munsqueeze\u001b[0m\u001b[1;33m(\u001b[0m\u001b[0mdis\u001b[0m\u001b[1;33m,\u001b[0m\u001b[0mdim\u001b[0m\u001b[1;33m=\u001b[0m\u001b[1;33m-\u001b[0m\u001b[1;36m1\u001b[0m\u001b[1;33m)\u001b[0m\u001b[1;33m\u001b[0m\u001b[1;33m\u001b[0m\u001b[0m\n\u001b[0;32m     13\u001b[0m \u001b[1;31m#         L=(souce[\"position\"]-coord)/tc.unsqueeze(tc.norm(souce[\"position\"]-coord,dim=-1),dim=-1)\u001b[0m\u001b[1;33m\u001b[0m\u001b[1;33m\u001b[0m\u001b[1;33m\u001b[0m\u001b[0m\n",
      "\u001b[1;32m<ipython-input-25-b24886f330da>\u001b[0m in \u001b[0;36mshortest_dis\u001b[1;34m(sence, ray_origin, ray_dir)\u001b[0m\n\u001b[0;32m      8\u001b[0m \u001b[1;32mdef\u001b[0m \u001b[0mshortest_dis\u001b[0m\u001b[1;33m(\u001b[0m\u001b[0msence\u001b[0m\u001b[1;33m,\u001b[0m\u001b[0mray_origin\u001b[0m\u001b[1;33m,\u001b[0m\u001b[0mray_dir\u001b[0m\u001b[1;33m)\u001b[0m\u001b[1;33m:\u001b[0m\u001b[1;33m\u001b[0m\u001b[1;33m\u001b[0m\u001b[0m\n\u001b[0;32m      9\u001b[0m     \u001b[0ma\u001b[0m\u001b[1;33m=\u001b[0m\u001b[0mtc\u001b[0m\u001b[1;33m.\u001b[0m\u001b[0mmatmul\u001b[0m\u001b[1;33m(\u001b[0m\u001b[0mray_origin\u001b[0m\u001b[1;33m,\u001b[0m\u001b[0mray_dir\u001b[0m\u001b[1;33m.\u001b[0m\u001b[0mT\u001b[0m\u001b[1;33m)\u001b[0m\u001b[1;33m.\u001b[0m\u001b[0msize\u001b[0m\u001b[1;33m(\u001b[0m\u001b[1;33m)\u001b[0m\u001b[1;33m\u001b[0m\u001b[1;33m\u001b[0m\u001b[0m\n\u001b[1;32m---> 10\u001b[1;33m     \u001b[0mdis\u001b[0m\u001b[1;33m=\u001b[0m\u001b[1;33m(\u001b[0m\u001b[0mtc\u001b[0m\u001b[1;33m.\u001b[0m\u001b[0mones\u001b[0m\u001b[1;33m(\u001b[0m\u001b[0ma\u001b[0m\u001b[1;33m)\u001b[0m\u001b[1;33m*\u001b[0m\u001b[0mtc\u001b[0m\u001b[1;33m.\u001b[0m\u001b[0minf\u001b[0m\u001b[1;33m)\u001b[0m\u001b[1;33m.\u001b[0m\u001b[0mcuda\u001b[0m\u001b[1;33m(\u001b[0m\u001b[1;33m)\u001b[0m\u001b[1;33m\u001b[0m\u001b[1;33m\u001b[0m\u001b[0m\n\u001b[0m\u001b[0;32m     11\u001b[0m     \u001b[0mindex\u001b[0m\u001b[1;33m=\u001b[0m\u001b[1;33m(\u001b[0m\u001b[0mtc\u001b[0m\u001b[1;33m.\u001b[0m\u001b[0mzeros\u001b[0m\u001b[1;33m(\u001b[0m\u001b[0ma\u001b[0m\u001b[1;33m)\u001b[0m\u001b[1;33m.\u001b[0m\u001b[0mtype\u001b[0m\u001b[1;33m(\u001b[0m\u001b[0mtc\u001b[0m\u001b[1;33m.\u001b[0m\u001b[0mLongTensor\u001b[0m\u001b[1;33m)\u001b[0m\u001b[1;33m)\u001b[0m\u001b[1;33m.\u001b[0m\u001b[0mcuda\u001b[0m\u001b[1;33m(\u001b[0m\u001b[1;33m)\u001b[0m\u001b[1;33m\u001b[0m\u001b[1;33m\u001b[0m\u001b[0m\n\u001b[0;32m     12\u001b[0m     \u001b[1;32mfor\u001b[0m \u001b[0mi\u001b[0m \u001b[1;32min\u001b[0m \u001b[0mrange\u001b[0m\u001b[1;33m(\u001b[0m\u001b[0mlen\u001b[0m\u001b[1;33m(\u001b[0m\u001b[0mplan\u001b[0m\u001b[1;33m)\u001b[0m\u001b[1;33m)\u001b[0m\u001b[1;33m:\u001b[0m\u001b[1;33m\u001b[0m\u001b[1;33m\u001b[0m\u001b[0m\n",
      "\u001b[1;31mKeyboardInterrupt\u001b[0m: "
     ]
    }
   ],
   "source": [
    "# %%time\n",
    "b=len(light_dir)\n",
    "light_dir=light_dir.cuda()\n",
    "plane_img=(plane_img/tc.max(plane_img)).cuda()\n",
    "image=tc.zeros(w,h,dtype=tc.cfloat).cuda()\n",
    "# color_image=tc.zeros(w,h,3,dtype=tc.cfloat).cuda()\n",
    "########\n",
    "pix=(pixl*w+2*math.tan(theta)*plan[0][\"point\"][...,2])/w\n",
    "for i in range(int(w/pixl_num)):\n",
    "    for j in range(int(h/pixl_num)):\n",
    "        dis,index=shortest_dis(plan,origin_p[i,j],light_dir)\n",
    "        coord=tc.unsqueeze(origin_p[i,j],dim=-2)+light_dir*tc.unsqueeze(dis,dim=-1)\n",
    "#         L=(souce[\"position\"]-coord)/tc.unsqueeze(tc.norm(souce[\"position\"]-coord,dim=-1),dim=-1)\n",
    "# #         N=(coord-center[index])/tc.unsqueeze(tc.norm(coord-center[index],dim=-1),dim=-1)\n",
    "#         N=normal\n",
    "#         L_N=tc.squeeze(tc.matmul(tc.unsqueeze(L,dim=-2),N.T))\n",
    "#         R=2*L_N.unsqueeze(dim=-1)*N-L\n",
    "#         V=tc.ones(R.size()).cuda()*(-light_dir)\n",
    "        img_A=plane_img[((coord[...,0])/pix+w/2).type(tc.LongTensor),((coord[...,1])/pix+h/2).type(tc.LongTensor)]\n",
    "        A=img_A#*(ka+kd**tc.clip(L_N,0)+ks*tc.squeeze(tc.clip(tc.matmul(tc.unsqueeze(R,dim=-2),tc.unsqueeze(V,dim=-1)),0)**alpha))\n",
    "#         A=plane_img[((coord[...,0])/0.032+w/2).type(tc.LongTensor),((coord[...,1])/0.032+h/2).type(tc.LongTensor)]\n",
    "        #阴影\n",
    "        #     shadow_dis=shadow(sence,coord,L,index)\n",
    "        #     shadow_dis[shadow_dis== -tc.inf]=tc.inf\n",
    "        #     shadow_dis[tc.isnan(shadow_dis)]=tc.inf\n",
    "        #     A[shadow_dis!=tc.inf]=ka\n",
    "        #\n",
    "        coord[coord==tc.inf]=0\n",
    "        coord[coord== -tc.inf]=0\n",
    "        coord[tc.isnan(coord)]=0\n",
    "        coord[...,2][coord[...,2]==0]=c\n",
    "#         coord=coord.unsqueeze(dim=-2).unsqueeze(dim=-2)\n",
    "#         di=tc.norm(origin_p[i][j]-coord,dim=-1)\n",
    "#         x1=coord[...,0]-coord[...,2]*math.tan(theta)\n",
    "#         x2=coord[...,0]+coord[...,2]*math.tan(theta)\n",
    "#         y1=coord[...,1]-coord[...,2]*math.tan(theta)\n",
    "#         y2=coord[...,1]+coord[...,2]*math.tan(theta)\n",
    "        H=A/dis*tc.exp(1j*(2*tc.pi/lamda*dis))#+phi[(10*coord[...,0]+phi.size(0)/2).type(tc.LongTensor),(10*coord[...,1]+phi.size(1)/2).type(tc.LongTensor),(10*(coord[...,2]-c)).type(tc.LongTensor)].cuda()))\n",
    "#.unsqueeze(dim=-1).unsqueeze(dim=-1)\n",
    "    #         H[(origin_p[i][j][...,0]<x1)&(origin_p[i][j][...,0]>x2)&(origin_p[i][j][...,1]<y1)&(origin_p[i][j][...,1]>y2)]=0\n",
    "        H[H==tc.inf]=0\n",
    "        H[H== -tc.inf]=0\n",
    "        H[tc.isnan(H)]=0\n",
    "        image[pixl_num*i:pixl_num*(i+1),pixl_num*j:pixl_num*(j+1)]=tc.sum(H,dim=-1)"
   ]
  },
  {
   "cell_type": "code",
   "execution_count": null,
   "id": "a905305c",
   "metadata": {},
   "outputs": [],
   "source": []
  }
 ],
 "metadata": {
  "kernelspec": {
   "display_name": "Python 3",
   "language": "python",
   "name": "python3"
  },
  "language_info": {
   "codemirror_mode": {
    "name": "ipython",
    "version": 3
   },
   "file_extension": ".py",
   "mimetype": "text/x-python",
   "name": "python",
   "nbconvert_exporter": "python",
   "pygments_lexer": "ipython3",
   "version": "3.8.8"
  }
 },
 "nbformat": 4,
 "nbformat_minor": 5
}
